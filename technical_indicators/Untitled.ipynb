{
 "cells": [
  {
   "cell_type": "code",
   "execution_count": 1,
   "id": "343984fb",
   "metadata": {},
   "outputs": [
    {
     "name": "stdout",
     "output_type": "stream",
     "text": [
      "[*********************100%***********************]  1 of 1 completed\n",
      "Cumulative Profit/Loss:\n",
      " Date\n",
      "2022-01-03     0.000000\n",
      "2022-01-04     0.089996\n",
      "2022-01-05    -2.130005\n",
      "2022-01-06    -3.020004\n",
      "2022-01-07     0.069992\n",
      "                ...    \n",
      "2023-02-16   -13.280014\n",
      "2023-02-17   -15.630020\n",
      "2023-02-21   -16.020020\n",
      "2023-02-22   -17.200012\n",
      "2023-02-23   -14.910019\n",
      "Name: cum_profit_loss, Length: 287, dtype: float64\n",
      "Sum of Daily Returns: -0.10218130320521912\n",
      "Number of Positive Trades: 222\n",
      "Number of Negative Trades: 64\n",
      "Number of Trades with Zero Returns: 1\n"
     ]
    }
   ],
   "source": [
    "import yfinance as yf\n",
    "import pandas as pd\n",
    "\n",
    "# Define the ticker symbol and the date range\n",
    "ticker = 'AAPL'\n",
    "start_date = '2022-01-01'\n",
    "\n",
    "# Download the historical data for the ticker symbol\n",
    "df = yf.download(ticker, start=start_date)\n",
    "\n",
    "# Calculate the daily returns\n",
    "df['returns'] = df['Open'].pct_change()\n",
    "\n",
    "# Create a signal to buy or sell\n",
    "df['signal'] = 0\n",
    "df.loc[df['returns'] > 0, 'signal'] = 1\n",
    "df.loc[df['returns'] < 0, 'signal'] = -1\n",
    "\n",
    "# Calculate the daily profit or loss\n",
    "df['profit_loss'] = df['Open'].shift(-1) - df['Close']\n",
    "\n",
    "# Filter the signal to include only days when the market is open\n",
    "df['signal'] = df['signal'].shift(1)\n",
    "df = df.dropna().copy()\n",
    "\n",
    "# Buy or sell based on the signal\n",
    "df['position'] = 0\n",
    "df.loc[df['signal'] == 1, 'position'] = 1\n",
    "df.loc[df['signal'] == -1, 'position'] = -1\n",
    "\n",
    "# Calculate the cumulative profit or loss\n",
    "df['cum_profit_loss'] = df['position'] * df['profit_loss']\n",
    "df['cum_profit_loss'] = df['cum_profit_loss'].cumsum()\n",
    "\n",
    "# Calculate the number of positive, negative, and zero-return trades\n",
    "num_pos_trades = len(df[df['cum_profit_loss'] > 0])\n",
    "num_neg_trades = len(df[df['cum_profit_loss'] < 0])\n",
    "num_zero_trades = len(df[df['cum_profit_loss'] == 0])\n",
    "\n",
    "# Calculate the sum of daily returns\n",
    "sum_returns = df['returns'].sum()\n",
    "\n",
    "# Print the results\n",
    "print('Cumulative Profit/Loss:\\n', df['cum_profit_loss'])\n",
    "print('Sum of Daily Returns:', sum_returns)\n",
    "print('Number of Positive Trades:', num_pos_trades)\n",
    "print('Number of Negative Trades:', num_neg_trades)\n",
    "print('Number of Trades with Zero Returns:', num_zero_trades)\n"
   ]
  },
  {
   "cell_type": "code",
   "execution_count": null,
   "id": "1bf2fdcf",
   "metadata": {},
   "outputs": [],
   "source": []
  }
 ],
 "metadata": {
  "kernelspec": {
   "display_name": "Python 3",
   "language": "python",
   "name": "python3"
  },
  "language_info": {
   "codemirror_mode": {
    "name": "ipython",
    "version": 3
   },
   "file_extension": ".py",
   "mimetype": "text/x-python",
   "name": "python",
   "nbconvert_exporter": "python",
   "pygments_lexer": "ipython3",
   "version": "3.7.11"
  }
 },
 "nbformat": 4,
 "nbformat_minor": 5
}
