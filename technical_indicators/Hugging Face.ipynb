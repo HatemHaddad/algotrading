{
 "cells": [
  {
   "cell_type": "code",
   "execution_count": 1,
   "id": "5d35e792",
   "metadata": {},
   "outputs": [],
   "source": [
    "import PyPDF2\n",
    "import torch\n",
    "from transformers import AutoTokenizer, AutoModelForQuestionAnswering"
   ]
  },
  {
   "cell_type": "code",
   "execution_count": 2,
   "id": "f8457e32",
   "metadata": {},
   "outputs": [],
   "source": [
    "# Open the PDF file\n",
    "pdf_file = open('hh.pdf', 'rb')"
   ]
  },
  {
   "cell_type": "code",
   "execution_count": 9,
   "id": "802204d8",
   "metadata": {},
   "outputs": [
    {
     "name": "stdout",
     "output_type": "stream",
     "text": [
      "Q: What is the name of applicant?\n",
      "A: hatem samir issa haddad\n",
      "Q: what is applicant birth date?\n",
      "A: 3 august 1970\n"
     ]
    }
   ],
   "source": [
    "# Read the PDF file and extract the text\n",
    "pdf_reader = PyPDF2.PdfReader(pdf_file)\n",
    "text = ''\n",
    "for page in range(len(pdf_reader.pages)):\n",
    "    text += pdf_reader.pages[page].extract_text()\n",
    "\n",
    "# Load the question-answering model and tokenizer\n",
    "tokenizer = AutoTokenizer.from_pretrained('bert-large-uncased-whole-word-masking-finetuned-squad')\n",
    "model = AutoModelForQuestionAnswering.from_pretrained('bert-large-uncased-whole-word-masking-finetuned-squad')\n",
    "\n",
    "# Define the questions to answer\n",
    "questions = [\n",
    "    {\n",
    "        'question': 'What is the name of applicant?',\n",
    "        'context': text\n",
    "    },\n",
    "    {\n",
    "        'question': 'what is applicant birth date?',\n",
    "        'context': text\n",
    "    }\n",
    "]\n",
    "\n",
    "# Process each question and extract the answers\n",
    "for question in questions:\n",
    "    # Tokenize the input text\n",
    "    inputs = tokenizer(question['question'], question['context'], return_tensors='pt',max_length=512,truncation=True)\n",
    "    \n",
    "    # Get the start and end logits for the answer\n",
    "    with torch.no_grad():\n",
    "        start_logits, end_logits = model(**inputs).values()\n",
    "\n",
    "    # Find the start and end positions with the highest logits\n",
    "    start_index = torch.argmax(start_logits, dim=1).item()\n",
    "    end_index = torch.argmax(end_logits, dim=1).item()\n",
    "    \n",
    "    # Extract the answer from the input text\n",
    "    answer = tokenizer.convert_tokens_to_string(tokenizer.convert_ids_to_tokens(inputs['input_ids'][0][start_index:end_index+1]))\n",
    "    \n",
    "    # Print the question and answer\n",
    "    print(f\"Q: {question['question']}\")\n",
    "    print(f\"A: {answer}\")"
   ]
  },
  {
   "cell_type": "code",
   "execution_count": null,
   "id": "d3a9d4a8",
   "metadata": {},
   "outputs": [],
   "source": []
  }
 ],
 "metadata": {
  "kernelspec": {
   "display_name": "Python 3",
   "language": "python",
   "name": "python3"
  },
  "language_info": {
   "codemirror_mode": {
    "name": "ipython",
    "version": 3
   },
   "file_extension": ".py",
   "mimetype": "text/x-python",
   "name": "python",
   "nbconvert_exporter": "python",
   "pygments_lexer": "ipython3",
   "version": "3.7.11"
  }
 },
 "nbformat": 4,
 "nbformat_minor": 5
}
