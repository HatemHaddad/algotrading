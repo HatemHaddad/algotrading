{
 "cells": [
  {
   "cell_type": "code",
   "execution_count": 1,
   "id": "cc223a40",
   "metadata": {},
   "outputs": [],
   "source": [
    "import PyPDF2\n",
    "import torch\n",
    "from transformers import AutoTokenizer, AutoModelForQuestionAnswering"
   ]
  },
  {
   "cell_type": "code",
   "execution_count": 2,
   "id": "36883202",
   "metadata": {},
   "outputs": [],
   "source": [
    "# Open the PDF file\n",
    "pdf_file = open('hh.pdf', 'rb')"
   ]
  },
  {
   "cell_type": "code",
   "execution_count": 3,
   "id": "adae32aa",
   "metadata": {},
   "outputs": [
    {
     "name": "stdout",
     "output_type": "stream",
     "text": [
      "Chatbot: Hi, I can answer questions about this PDF file. What would you like to know?\n",
      "User: what is applicant age\n",
      "Chatbot: [SEP]\n",
      "User: quit\n",
      "Chatbot: Goodbye!\n"
     ]
    }
   ],
   "source": [
    "import PyPDF2\n",
    "import torch\n",
    "from transformers import AutoTokenizer, AutoModelForQuestionAnswering\n",
    "\n",
    "# Load the question-answering model and tokenizer\n",
    "tokenizer = AutoTokenizer.from_pretrained('bert-large-uncased-whole-word-masking-finetuned-squad')\n",
    "model = AutoModelForQuestionAnswering.from_pretrained('bert-large-uncased-whole-word-masking-finetuned-squad')\n",
    "\n",
    "# Open the PDF file and extract the text\n",
    "with open('hh.pdf', 'rb') as f:\n",
    "    pdf_reader = PyPDF2.PdfReader(f)\n",
    "    text = ''\n",
    "    for page in range(len(pdf_reader.pages)):\n",
    "        text += pdf_reader.pages[page].extract_text()\n",
    "\n",
    "# Define a function to answer questions\n",
    "def answer_question(question):\n",
    "    # Tokenize the input text\n",
    "    inputs = tokenizer(question, text, return_tensors='pt', max_length=512, truncation=True)\n",
    "    \n",
    "    # Get the start and end logits for the answer\n",
    "    with torch.no_grad():\n",
    "        start_logits, end_logits = model(**inputs).values()\n",
    "\n",
    "    # Find the start and end positions with the highest logits\n",
    "    start_index = torch.argmax(start_logits, dim=1).item()\n",
    "    end_index = torch.argmax(end_logits, dim=1).item()\n",
    "    \n",
    "    # Extract the answer from the input text\n",
    "    answer = tokenizer.convert_tokens_to_string(tokenizer.convert_ids_to_tokens(inputs['input_ids'][0][start_index:end_index+1]))\n",
    "    \n",
    "    return answer\n",
    "\n",
    "# Define a function to run the chatbot\n",
    "def run_chatbot():\n",
    "    print('Chatbot: Hi, I can answer questions about this PDF file. What would you like to know?')\n",
    "    while True:\n",
    "        user_input = input('User: ')\n",
    "        if user_input.lower() == 'quit':\n",
    "            print('Chatbot: Goodbye!')\n",
    "            break\n",
    "        answer = answer_question(user_input)\n",
    "        print(f'Chatbot: {answer}')\n",
    "\n",
    "# Run the chatbot\n",
    "run_chatbot()\n"
   ]
  },
  {
   "cell_type": "code",
   "execution_count": null,
   "id": "558a8abe",
   "metadata": {},
   "outputs": [],
   "source": []
  }
 ],
 "metadata": {
  "kernelspec": {
   "display_name": "Python 3",
   "language": "python",
   "name": "python3"
  },
  "language_info": {
   "codemirror_mode": {
    "name": "ipython",
    "version": 3
   },
   "file_extension": ".py",
   "mimetype": "text/x-python",
   "name": "python",
   "nbconvert_exporter": "python",
   "pygments_lexer": "ipython3",
   "version": "3.7.11"
  }
 },
 "nbformat": 4,
 "nbformat_minor": 5
}
