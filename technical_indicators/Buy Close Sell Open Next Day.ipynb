{
 "cells": [
  {
   "cell_type": "code",
   "execution_count": null,
   "id": "d7f731ff",
   "metadata": {},
   "outputs": [],
   "source": [
    "import yfinance as yf\n",
    "import pandas as pd\n",
    "\n",
    "# Define the ticker symbol and the date range\n",
    "ticker = 'AAPL'\n",
    "start_date = '2022-01-01'\n",
    "\n",
    "# Download the historical data for the ticker symbol\n",
    "df = yf.download(ticker, start=start_date)\n",
    "\n",
    "# Calculate the daily returns\n",
    "df['returns'] = df['Open'].pct_change()\n",
    "\n",
    "# Create a signal to buy or sell\n",
    "df['signal'] = 0\n",
    "df.loc[df['returns'] > 0, 'signal'] = 1\n",
    "df.loc[df['returns'] < 0, 'signal'] = -1\n",
    "\n",
    "# Calculate the daily profit or loss\n",
    "df['profit_loss'] = df['Open'].shift(-1) - df['Close']\n",
    "\n",
    "# Filter the signal to include only days when the market is open\n",
    "df['signal'] = df['signal'].shift(1)\n",
    "df = df.dropna().copy()\n",
    "\n",
    "# Buy or sell based on the signal\n",
    "df['position'] = 0\n",
    "df.loc[df['signal'] == 1, 'position'] = 1\n",
    "df.loc[df['signal'] == -1, 'position'] = -1\n",
    "\n",
    "# Calculate the cumulative profit or loss\n",
    "df['cum_profit_loss'] = df['position'] * df['profit_loss']\n",
    "df['cum_profit_loss'] = df['cum_profit_loss'].cumsum()\n",
    "\n",
    "# Calculate the number of positive, negative, and zero-return trades\n",
    "num_pos_trades = len(df[df['cum_profit_loss'] > 0])\n",
    "num_neg_trades = len(df[df['cum_profit_loss'] < 0])\n",
    "num_zero_trades = len(df[df['cum_profit_loss'] == 0])\n",
    "\n",
    "# Calculate the sum of daily returns\n",
    "sum_returns = df['returns'].sum()\n",
    "\n",
    "# Print the results\n",
    "print('Cumulative Profit/Loss:\\n', df['cum_profit_loss'])\n",
    "print('Sum of Daily Returns:', sum_returns)\n",
    "print('Number of Positive Trades:', num_pos_trades)\n",
    "print('Number of Negative Trades:', num_neg_trades)\n",
    "print('Number of Trades with Zero Returns:', num_zero_trades)\n"
   ]
  }
 ],
 "metadata": {
  "kernelspec": {
   "display_name": "Python 3",
   "language": "python",
   "name": "python3"
  },
  "language_info": {
   "codemirror_mode": {
    "name": "ipython",
    "version": 3
   },
   "file_extension": ".py",
   "mimetype": "text/x-python",
   "name": "python",
   "nbconvert_exporter": "python",
   "pygments_lexer": "ipython3",
   "version": "3.7.11"
  }
 },
 "nbformat": 4,
 "nbformat_minor": 5
}
