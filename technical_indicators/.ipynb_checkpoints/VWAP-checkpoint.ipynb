{
 "cells": [
  {
   "cell_type": "markdown",
   "id": "89cf6d97",
   "metadata": {},
   "source": [
    "## Import required libraries"
   ]
  },
  {
   "cell_type": "code",
   "execution_count": 1,
   "id": "b42b38a9",
   "metadata": {},
   "outputs": [],
   "source": [
    "import pandas as pd\n",
    "import yfinance as yf\n",
    "import datetime as dt\n",
    "import matplotlib.pyplot as plt"
   ]
  },
  {
   "cell_type": "markdown",
   "id": "f2cecd18",
   "metadata": {},
   "source": [
    "## Define the ticker and the date range"
   ]
  },
  {
   "cell_type": "code",
   "execution_count": 2,
   "id": "742d30c4",
   "metadata": {},
   "outputs": [],
   "source": [
    "ticker = \"AAPL\"\n",
    "start_date = dt.datetime.now() - dt.timedelta(days=252)\n",
    "end_date = dt.datetime.now()"
   ]
  },
  {
   "cell_type": "markdown",
   "id": "ab4ce520",
   "metadata": {},
   "source": [
    "## Download the historical data for the ticker"
   ]
  },
  {
   "cell_type": "code",
   "execution_count": 3,
   "id": "b937dfac",
   "metadata": {},
   "outputs": [
    {
     "name": "stdout",
     "output_type": "stream",
     "text": [
      "[*********************100%***********************]  1 of 1 completed\n"
     ]
    }
   ],
   "source": [
    "data = yf.download(ticker, start_date, end_date)"
   ]
  },
  {
   "cell_type": "markdown",
   "id": "c61c097b",
   "metadata": {},
   "source": [
    "## Calculate the VWAP for the data"
   ]
  },
  {
   "cell_type": "code",
   "execution_count": 4,
   "id": "fac87fca",
   "metadata": {},
   "outputs": [],
   "source": [
    "data['TP'] = (data['High'] + data['Low'] + data['Close']) / 3\n",
    "data['TPV'] = data['TP'] * data['Volume']\n",
    "data['Cumulative TPV'] = data['TPV'].cumsum()\n",
    "data['Cumulative Volume'] = data['Volume'].cumsum()\n",
    "data['VWAP'] = data['Cumulative TPV'] / data['Cumulative Volume']"
   ]
  },
  {
   "cell_type": "markdown",
   "id": "d232bcdb",
   "metadata": {},
   "source": [
    "## Define the trading signal"
   ]
  },
  {
   "cell_type": "code",
   "execution_count": 6,
   "id": "a2b3483c",
   "metadata": {},
   "outputs": [],
   "source": [
    "data['Signal'] = [1 if data['Close'][i] > data['VWAP'][i] else -1 for i in range(len(data))]"
   ]
  },
  {
   "cell_type": "markdown",
   "id": "c7a39827",
   "metadata": {},
   "source": [
    "## Calculate the returns"
   ]
  },
  {
   "cell_type": "code",
   "execution_count": 8,
   "id": "af7d4164",
   "metadata": {},
   "outputs": [],
   "source": [
    "data['Returns'] = data['Close'].pct_change()\n",
    "data['Strategy Returns'] = data['Returns'] * data['Signal'].shift(1)"
   ]
  },
  {
   "cell_type": "markdown",
   "id": "e24a3bd9",
   "metadata": {},
   "source": [
    "## Calculate the cumulative returns"
   ]
  },
  {
   "cell_type": "code",
   "execution_count": 10,
   "id": "e94a62b7",
   "metadata": {},
   "outputs": [],
   "source": [
    "data['Cumulative Returns'] = (data['Strategy Returns'] + 1).cumprod()"
   ]
  },
  {
   "cell_type": "markdown",
   "id": "f6893499",
   "metadata": {},
   "source": [
    "## Plot the cumulative returns"
   ]
  },
  {
   "cell_type": "code",
   "execution_count": 12,
   "id": "037b7da8",
   "metadata": {},
   "outputs": [
    {
     "data": {
      "image/png": "[encoded data removed]",
      "text/plain": [
       "<Figure size 432x288 with 1 Axes>"
      ]
     },
     "metadata": {
      "needs_background": "light"
     },
     "output_type": "display_data"
    }
   ],
   "source": [
    "plt.plot(data['Cumulative Returns'])\n",
    "plt.show()"
   ]
  },
  {
   "cell_type": "code",
   "execution_count": null,
   "id": "82258dea",
   "metadata": {},
   "outputs": [],
   "source": []
  }
 ],
 "metadata": {
  "kernelspec": {
   "display_name": "Python 3",
   "language": "python",
   "name": "python3"
  },
  "language_info": {
   "codemirror_mode": {
    "name": "ipython",
    "version": 3
   },
   "file_extension": ".py",
   "mimetype": "text/x-python",
   "name": "python",
   "nbconvert_exporter": "python",
   "pygments_lexer": "ipython3",
   "version": "3.7.11"
  }
 },
 "nbformat": 4,
 "nbformat_minor": 5
}
